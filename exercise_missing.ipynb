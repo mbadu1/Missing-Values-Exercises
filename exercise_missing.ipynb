{
 "cells": [
  {
   "cell_type": "code",
   "execution_count": 1,
   "id": "cd668222",
   "metadata": {},
   "outputs": [
    {
     "name": "stdout",
     "output_type": "stream",
     "text": [
      "   year  datanum   serial      cbserial          numprec subsamp  hhwt  \\\n",
      "0  2017        1   177686  2.017001e+12                9      64    55   \n",
      "1  2017        1  1200045  2.017001e+12                6      79    25   \n",
      "2  2017        1    70831  2.017000e+12  1 person record      36    57   \n",
      "3  2017        1   557128  2.017001e+12                2      10    98   \n",
      "4  2017        1   614890  2.017001e+12                4      96    54   \n",
      "\n",
      "                                   hhtype       cluster    adjust  ...  \\\n",
      "0  female householder, no husband present  2.017002e+12  1.011189  ...   \n",
      "1       male householder, no wife present  2.017012e+12  1.011189  ...   \n",
      "2          male householder, living alone  2.017001e+12  1.011189  ...   \n",
      "3         married-couple family household  2.017006e+12  1.011189  ...   \n",
      "4         married-couple family household  2.017006e+12  1.011189  ...   \n",
      "\n",
      "   migcounty1                 migmet131 vetdisab                   diffrem  \\\n",
      "0           0  not in identifiable area      n/a                       n/a   \n",
      "1           0  not in identifiable area      n/a   no cognitive difficulty   \n",
      "2           0  not in identifiable area      n/a  has cognitive difficulty   \n",
      "3           0  not in identifiable area      n/a   no cognitive difficulty   \n",
      "4           0  not in identifiable area      n/a                       n/a   \n",
      "\n",
      "                   diffphys                           diffmob diffcare  \\\n",
      "0                       n/a                               n/a      n/a   \n",
      "1  no ambulatory difficulty  no independent living difficulty       no   \n",
      "2  no ambulatory difficulty  no independent living difficulty       no   \n",
      "3  no ambulatory difficulty  no independent living difficulty       no   \n",
      "4                       n/a                               n/a      n/a   \n",
      "\n",
      "                          diffsens  diffeye  diffhear  \n",
      "0  no vision or hearing difficulty       no        no  \n",
      "1  no vision or hearing difficulty       no        no  \n",
      "2  no vision or hearing difficulty       no        no  \n",
      "3  no vision or hearing difficulty       no        no  \n",
      "4  no vision or hearing difficulty       no        no  \n",
      "\n",
      "[5 rows x 104 columns]\n"
     ]
    }
   ],
   "source": [
    "import pandas as pd\n",
    "\n",
    "url = \"https://github.com/nickeubank/MIDS_Data/raw/refs/heads/master/US_AmericanCommunitySurvey/US_ACS_2017_10pct_sample.dta\"\n",
    "\n",
    "# Load the data\n",
    "acs_data = pd.read_stata(url)\n",
    "\n",
    "# Display the first few rows\n",
    "print(acs_data.head())\n"
   ]
  },
  {
   "cell_type": "code",
   "execution_count": 2,
   "id": "3adaf4e9",
   "metadata": {},
   "outputs": [
    {
     "name": "stdout",
     "output_type": "stream",
     "text": [
      "{'ex2_avg_income': np.float64(1723646.2703978634)}\n"
     ]
    }
   ],
   "source": [
    "# Load the data\n",
    "data = pd.read_stata(url)\n",
    "# Calculate mean US income\n",
    "mean_income = data['inctot'].mean()\n",
    "results = {\"ex2_avg_income\": mean_income}\n",
    "\n",
    "print(results)"
   ]
  },
  {
   "cell_type": "code",
   "execution_count": 4,
   "id": "83632b30",
   "metadata": {},
   "outputs": [
    {
     "name": "stdout",
     "output_type": "stream",
     "text": [
      "{'ex2_avg_income': np.float64(1723646.2703978634), 'ex3_share_making_9999999': np.float64(0.1689665333350052), 'ex3_share_making_zero': np.float64(0.10557547867738336)}\n"
     ]
    }
   ],
   "source": [
    "# Calculate the proportion reporting income of 9,999,999\n",
    "results[\"ex3_share_making_9999999\"] = data['inctot'].value_counts(normalize=True).get(9999999, 0)\n",
    "\n",
    "# Calculate the proportion reporting income of 0\n",
    "results[\"ex3_share_making_zero\"] = data['inctot'].value_counts(normalize=True).get(0, 0)\n",
    "\n",
    "print(results)\n"
   ]
  },
  {
   "cell_type": "code",
   "execution_count": 5,
   "id": "c150d8e9",
   "metadata": {},
   "outputs": [],
   "source": [
    "import numpy as np\n",
    "\n",
    "# Replace all instances of 9999999 with np.nan in 'inctot'\n",
    "data['inctot'] = data['inctot'].replace(9999999, np.nan)\n"
   ]
  },
  {
   "cell_type": "code",
   "execution_count": 6,
   "id": "127cc920",
   "metadata": {},
   "outputs": [
    {
     "name": "stdout",
     "output_type": "stream",
     "text": [
      "{'ex2_avg_income': np.float64(1723646.2703978634), 'ex3_share_making_9999999': np.float64(0.1689665333350052), 'ex3_share_making_zero': np.float64(0.10557547867738336), 'ex5_avg_income': np.float64(40890.177564946454)}\n"
     ]
    }
   ],
   "source": [
    "# Replace all instances of 9999999 with np.nan in 'inctot'\n",
    "data['inctot'] = data['inctot'].replace(9999999, np.nan)\n",
    "\n",
    "# Calculate the new average US income, ignoring np.nan\n",
    "results[\"ex5_avg_income\"] = data['inctot'].mean()\n",
    "\n",
    "print(results)\n"
   ]
  },
  {
   "cell_type": "code",
   "execution_count": 7,
   "id": "0fe8c185",
   "metadata": {},
   "outputs": [
    {
     "name": "stdout",
     "output_type": "stream",
     "text": [
      "Ages with missing income:\n",
      "age\n",
      "10                      3997\n",
      "9                       3977\n",
      "14                      3847\n",
      "12                      3845\n",
      "13                      3800\n",
      "11                      3791\n",
      "8                       3648\n",
      "7                       3527\n",
      "6                       3524\n",
      "5                       3512\n",
      "2                       3405\n",
      "1                       3340\n",
      "4                       3318\n",
      "3                       3220\n",
      "less than 1 year old    3150\n",
      "Name: count, dtype: int64\n",
      "\n",
      "Ages with non-missing income:\n",
      "age\n",
      "60    4950\n",
      "54    4821\n",
      "59    4776\n",
      "56    4776\n",
      "58    4734\n",
      "57    4720\n",
      "55    4693\n",
      "61    4644\n",
      "62    4614\n",
      "53    4600\n",
      "18    4496\n",
      "63    4488\n",
      "52    4418\n",
      "65    4362\n",
      "19    4342\n",
      "Name: count, dtype: int64\n"
     ]
    }
   ],
   "source": [
    "# Age distribution for people with missing income\n",
    "missing_income_ages = data.loc[data['inctot'].isna(), 'age'].value_counts()\n",
    "\n",
    "# Age distribution for people with non-missing income\n",
    "nonmissing_income_ages = data.loc[data['inctot'].notna(), 'age'].value_counts()\n",
    "\n",
    "# Print the top results for inspection\n",
    "print(\"Ages with missing income:\")\n",
    "print(missing_income_ages.head(15))\n",
    "\n",
    "print(\"\\nAges with non-missing income:\")\n",
    "print(nonmissing_income_ages.head(15))\n",
    "\n",
    "# (No need to update results dictionary for this inspection step)\n"
   ]
  },
  {
   "cell_type": "code",
   "execution_count": 8,
   "id": "6b2d2fad",
   "metadata": {},
   "outputs": [
    {
     "name": "stdout",
     "output_type": "stream",
     "text": [
      "(148758, 104)\n"
     ]
    }
   ],
   "source": [
    "# Subset to only employed respondents\n",
    "employed_data = data[data['empstat'] == \"employed\"]\n",
    "\n",
    "# You can check the size of this group if you want:\n",
    "print(employed_data.shape)\n",
    "\n",
    "# print(employed_data['inctot'].value_counts())\n"
   ]
  },
  {
   "cell_type": "code",
   "execution_count": 9,
   "id": "61c4c8b4",
   "metadata": {},
   "outputs": [
    {
     "name": "stdout",
     "output_type": "stream",
     "text": [
      "race\n",
      "white                               116017\n",
      "black/african american/negro         13175\n",
      "other asian or pacific islander       6424\n",
      "other race, nec                       5755\n",
      "two major races                       3135\n",
      "chinese                               2149\n",
      "american indian or alaska native      1290\n",
      "three or more major races              426\n",
      "japanese                               387\n",
      "Name: count, dtype: int64\n",
      "{'ex2_avg_income': np.float64(1723646.2703978634), 'ex3_share_making_9999999': np.float64(0.1689665333350052), 'ex3_share_making_zero': np.float64(0.10557547867738336), 'ex5_avg_income': np.float64(40890.177564946454), 'ex8_avg_income_black': nan, 'ex8_avg_income_white': np.float64(60473.15372747098), 'ex8_racial_difference': None}\n"
     ]
    }
   ],
   "source": [
    "# Check the unique values in the 'race' column for employed respondents\n",
    "print(employed_data['race'].value_counts())\n",
    "\n",
    "# Now proceed if \"black\" and \"white\" are present;\n",
    "# If the values are spelled differently, adjust them accordingly\n",
    "\n",
    "# Calculate average income for employed Black Americans\n",
    "results[\"ex8_avg_income_black\"] = employed_data.loc[employed_data['race'] == \"black\", \"inctot\"].mean()\n",
    "\n",
    "# Calculate average income for employed White Americans\n",
    "results[\"ex8_avg_income_white\"] = employed_data.loc[employed_data['race'] == \"white\", \"inctot\"].mean()\n",
    "\n",
    "# Calculate the percentage difference\n",
    "if results[\"ex8_avg_income_black\"] > 0:\n",
    "    results[\"ex8_racial_difference\"] = (\n",
    "        (results[\"ex8_avg_income_white\"] - results[\"ex8_avg_income_black\"])\n",
    "        / results[\"ex8_avg_income_black\"]\n",
    "    ) * 100\n",
    "else:\n",
    "    results[\"ex8_racial_difference\"] = None\n",
    "\n",
    "print(results)\n"
   ]
  },
  {
   "cell_type": "code",
   "execution_count": 10,
   "id": "df1787f4",
   "metadata": {},
   "outputs": [
    {
     "name": "stdout",
     "output_type": "stream",
     "text": [
      "{'ex2_avg_income': np.float64(1723646.2703978634), 'ex3_share_making_9999999': np.float64(0.1689665333350052), 'ex3_share_making_zero': np.float64(0.10557547867738336), 'ex5_avg_income': np.float64(40890.177564946454), 'ex8_avg_income_black': nan, 'ex8_avg_income_white': np.float64(60473.15372747098), 'ex8_racial_difference': None, 'ex9_avg_income_white': np.float64(58361.48196061399), 'ex9_avg_income_black': np.float64(nan)}\n"
     ]
    },
    {
     "name": "stderr",
     "output_type": "stream",
     "text": [
      "/var/folders/71/3z68l8dn57x_d41ww6wfvb6h0000gn/T/ipykernel_81052/1790701462.py:10: RuntimeWarning: invalid value encountered in scalar divide\n",
      "  (black[\"inctot\"] * black[\"perwt\"]).sum() / black[\"perwt\"].sum()\n"
     ]
    }
   ],
   "source": [
    "# Weighted average income for employed White Americans\n",
    "white = employed_data[employed_data['race'] == \"white\"]\n",
    "results[\"ex9_avg_income_white\"] = (\n",
    "    (white[\"inctot\"] * white[\"perwt\"]).sum() / white[\"perwt\"].sum()\n",
    ")\n",
    "\n",
    "# Weighted average income for employed Black Americans\n",
    "black = employed_data[employed_data['race'] == \"black\"]\n",
    "results[\"ex9_avg_income_black\"] = (\n",
    "    (black[\"inctot\"] * black[\"perwt\"]).sum() / black[\"perwt\"].sum()\n",
    ")\n",
    "\n",
    "print(results)\n"
   ]
  },
  {
   "cell_type": "code",
   "execution_count": 11,
   "id": "b9c533a7",
   "metadata": {},
   "outputs": [
    {
     "name": "stdout",
     "output_type": "stream",
     "text": [
      "race\n",
      "white                               116017\n",
      "black/african american/negro         13175\n",
      "other asian or pacific islander       6424\n",
      "other race, nec                       5755\n",
      "two major races                       3135\n",
      "chinese                               2149\n",
      "american indian or alaska native      1290\n",
      "three or more major races              426\n",
      "japanese                               387\n",
      "Name: count, dtype: int64\n",
      "{'ex2_avg_income': np.float64(1723646.2703978634), 'ex3_share_making_9999999': np.float64(0.1689665333350052), 'ex3_share_making_zero': np.float64(0.10557547867738336), 'ex5_avg_income': np.float64(40890.177564946454), 'ex8_avg_income_black': nan, 'ex8_avg_income_white': np.float64(60473.15372747098), 'ex8_racial_difference': None, 'ex9_avg_income_white': np.float64(58361.48196061399), 'ex9_avg_income_black': np.float64(nan)}\n"
     ]
    },
    {
     "name": "stderr",
     "output_type": "stream",
     "text": [
      "/var/folders/71/3z68l8dn57x_d41ww6wfvb6h0000gn/T/ipykernel_81052/4243161633.py:11: RuntimeWarning: invalid value encountered in scalar divide\n",
      "  (black[\"inctot\"] * black[\"perwt\"]).sum() / black[\"perwt\"].sum()\n"
     ]
    }
   ],
   "source": [
    "# Check the available race values for employed respondents\n",
    "print(employed_data['race'].value_counts())\n",
    "\n",
    "# Adjust as needed if the value for Black is different, e.g., 'Black/African American'\n",
    "# For example, if you find 'black/african american' instead of 'black', use that value below\n",
    "black_race_label = \"black\"  # update if a different label appears above\n",
    "\n",
    "# Weighted average income for employed Black Americans\n",
    "black = employed_data[employed_data['race'].str.lower() == black_race_label]\n",
    "results[\"ex9_avg_income_black\"] = (\n",
    "    (black[\"inctot\"] * black[\"perwt\"]).sum() / black[\"perwt\"].sum()\n",
    ")\n",
    "\n",
    "print(results)\n"
   ]
  },
  {
   "cell_type": "markdown",
   "id": "b43cc5a2",
   "metadata": {},
   "source": [
    "Exercise 11\n"
   ]
  },
  {
   "cell_type": "code",
   "execution_count": 12,
   "id": "427f7190",
   "metadata": {},
   "outputs": [
    {
     "ename": "AssertionError",
     "evalue": "",
     "output_type": "error",
     "traceback": [
      "\u001b[31m---------------------------------------------------------------------------\u001b[39m",
      "\u001b[31mAssertionError\u001b[39m                            Traceback (most recent call last)",
      "\u001b[36mCell\u001b[39m\u001b[36m \u001b[39m\u001b[32mIn[12]\u001b[39m\u001b[32m, line 1\u001b[39m\n\u001b[32m----> \u001b[39m\u001b[32m1\u001b[39m \u001b[38;5;28;01massert\u001b[39;00m \u001b[38;5;28mset\u001b[39m(results.keys()) == {\n\u001b[32m      2\u001b[39m     \u001b[33m\"\u001b[39m\u001b[33mex2_avg_income\u001b[39m\u001b[33m\"\u001b[39m,\n\u001b[32m      3\u001b[39m     \u001b[33m\"\u001b[39m\u001b[33mex3_share_making_9999999\u001b[39m\u001b[33m\"\u001b[39m,\n\u001b[32m      4\u001b[39m     \u001b[33m\"\u001b[39m\u001b[33mex3_share_making_zero\u001b[39m\u001b[33m\"\u001b[39m,\n\u001b[32m      5\u001b[39m     \u001b[33m\"\u001b[39m\u001b[33mex5_avg_income\u001b[39m\u001b[33m\"\u001b[39m,\n\u001b[32m      6\u001b[39m     \u001b[33m\"\u001b[39m\u001b[33mex8_avg_income_black\u001b[39m\u001b[33m\"\u001b[39m,\n\u001b[32m      7\u001b[39m     \u001b[33m\"\u001b[39m\u001b[33mex8_avg_income_white\u001b[39m\u001b[33m\"\u001b[39m,\n\u001b[32m      8\u001b[39m     \u001b[33m\"\u001b[39m\u001b[33mex8_racial_difference\u001b[39m\u001b[33m\"\u001b[39m,\n\u001b[32m      9\u001b[39m     \u001b[33m\"\u001b[39m\u001b[33mex9_avg_income_black\u001b[39m\u001b[33m\"\u001b[39m,\n\u001b[32m     10\u001b[39m     \u001b[33m\"\u001b[39m\u001b[33mex9_avg_income_white\u001b[39m\u001b[33m\"\u001b[39m,\n\u001b[32m     11\u001b[39m     \u001b[33m\"\u001b[39m\u001b[33mex10_wage_gap\u001b[39m\u001b[33m\"\u001b[39m,\n\u001b[32m     12\u001b[39m }\n",
      "\u001b[31mAssertionError\u001b[39m: "
     ]
    }
   ],
   "source": [
    "assert set(results.keys()) == {\n",
    "    \"ex2_avg_income\",\n",
    "    \"ex3_share_making_9999999\",\n",
    "    \"ex3_share_making_zero\",\n",
    "    \"ex5_avg_income\",\n",
    "    \"ex8_avg_income_black\",\n",
    "    \"ex8_avg_income_white\",\n",
    "    \"ex8_racial_difference\",\n",
    "    \"ex9_avg_income_black\",\n",
    "    \"ex9_avg_income_white\",\n",
    "    \"ex10_wage_gap\",\n",
    "}"
   ]
  }
 ],
 "metadata": {
  "kernelspec": {
   "display_name": "base",
   "language": "python",
   "name": "python3"
  },
  "language_info": {
   "codemirror_mode": {
    "name": "ipython",
    "version": 3
   },
   "file_extension": ".py",
   "mimetype": "text/x-python",
   "name": "python",
   "nbconvert_exporter": "python",
   "pygments_lexer": "ipython3",
   "version": "3.12.11"
  }
 },
 "nbformat": 4,
 "nbformat_minor": 5
}
